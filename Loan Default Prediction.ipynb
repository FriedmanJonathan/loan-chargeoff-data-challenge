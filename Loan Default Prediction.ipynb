{
 "cells": [
  {
   "cell_type": "markdown",
   "id": "26a7f775",
   "metadata": {},
   "source": [
    "## Loan Default Prediction: A Practice Data Take-Home Challenge"
   ]
  },
  {
   "cell_type": "markdown",
   "id": "dd4ae7eb",
   "metadata": {},
   "source": [
    "This practice data take-home challenge was originally presented by [Benjamin Obi Tayo, Ph.D.](https://benjaminobi.medium.com/), who implemented a Monte Carlo simulation in R to solve it (you can find his solution and the dataset on [Github](https://github.com/bot13956/Monte_Carlo_Simulation_Loan_Status)). The Monte Carlo approach was seemingly not satisfactory, according to Benjamin's account [here](https://benjaminobi.medium.com/i-failed-my-data-science-interview-51e1fc20170c). A fellow scientist commented there that this problem is a textbook case of [Survival Analysis](https://towardsdatascience.com/survival-analysis-intuition-implementation-in-python-504fde4fcf8e), a statistical method of which I was previously unaware.\n",
    "\n",
    "In this notebook, I show an alternative method of extrapolation via curve fitting in order to solve the business problem of prediction the probability of loan charge-off based on data for prior loans. I've implemented the solution in Python, and while I didn't solve the problem in one spurt (as might be expected in some take-home challenge formats), I'd say the estimate of 3-6 hours that the company gave was certainly fair."
   ]
  },
  {
   "cell_type": "markdown",
   "id": "2be5aab3",
   "metadata": {},
   "source": [
    "### Introduction and Problem Statement"
   ]
  },
  {
   "cell_type": "markdown",
   "id": "f90eaff3",
   "metadata": {},
   "source": [
    "Predicting the status of a loan is an important problem in risk assessment. A bank or financial organization has to be able to estimate the risk involved before granting a loan to a customer. Data Science and predictive analytics play an important role in building models that can be used to predict the probability of loan default.\n",
    "\n",
    "In this project, we are provided with a data set loan_timing.csv containing 50000 data points. Each data point represents a loan, and two features are provided as follows:\n",
    "- The column with header “days since origination” indicates the number of days that elapsed between origination and the date when the data was collected.\n",
    "- For loans that charged off before the data was collected, the column with header “days from origination to charge-off” indicates the number of days that elapsed between origination and charge-off. For all other loans, this column is blank.\n",
    "\n",
    "**Project Objective:** The goal of this project is to use techniques of data science to estimate what fraction of these loans will have charged off by the time all of their 3-year terms are finished."
   ]
  },
  {
   "cell_type": "markdown",
   "id": "18b6b214",
   "metadata": {},
   "source": [
    "### Initial Thoughts"
   ]
  },
  {
   "cell_type": "markdown",
   "id": "7a673458",
   "metadata": {},
   "source": [
    "Since we're given some data to work with which is presumably crucial to the task at hand, we'll look into that briefly before consdering the solution structure and how to tackle this problem."
   ]
  },
  {
   "cell_type": "markdown",
   "id": "1e939c5f",
   "metadata": {},
   "source": [
    "### Loading the data"
   ]
  },
  {
   "cell_type": "code",
   "execution_count": 1,
   "id": "7c2d1313",
   "metadata": {},
   "outputs": [],
   "source": [
    "import pandas as pd\n",
    "import numpy as np\n",
    "import seaborn as sns\n",
    "import matplotlib.pyplot as plt"
   ]
  },
  {
   "cell_type": "code",
   "execution_count": 2,
   "id": "d764b9c9",
   "metadata": {},
   "outputs": [],
   "source": [
    "loan_df = pd.read_csv('data/loan_timing.csv')"
   ]
  },
  {
   "cell_type": "code",
   "execution_count": 3,
   "id": "ae92e652",
   "metadata": {},
   "outputs": [
    {
     "data": {
      "text/plain": [
       "days since origination                  int64\n",
       "days from origination to chargeoff    float64\n",
       "dtype: object"
      ]
     },
     "execution_count": 3,
     "metadata": {},
     "output_type": "execute_result"
    }
   ],
   "source": [
    "loan_df.dtypes"
   ]
  },
  {
   "cell_type": "code",
   "execution_count": 4,
   "id": "96eae705",
   "metadata": {},
   "outputs": [
    {
     "data": {
      "text/html": [
       "<div>\n",
       "<style scoped>\n",
       "    .dataframe tbody tr th:only-of-type {\n",
       "        vertical-align: middle;\n",
       "    }\n",
       "\n",
       "    .dataframe tbody tr th {\n",
       "        vertical-align: top;\n",
       "    }\n",
       "\n",
       "    .dataframe thead th {\n",
       "        text-align: right;\n",
       "    }\n",
       "</style>\n",
       "<table border=\"1\" class=\"dataframe\">\n",
       "  <thead>\n",
       "    <tr style=\"text-align: right;\">\n",
       "      <th></th>\n",
       "      <th>days since origination</th>\n",
       "      <th>days from origination to chargeoff</th>\n",
       "    </tr>\n",
       "  </thead>\n",
       "  <tbody>\n",
       "    <tr>\n",
       "      <th>0</th>\n",
       "      <td>109</td>\n",
       "      <td>NaN</td>\n",
       "    </tr>\n",
       "    <tr>\n",
       "      <th>1</th>\n",
       "      <td>679</td>\n",
       "      <td>NaN</td>\n",
       "    </tr>\n",
       "    <tr>\n",
       "      <th>2</th>\n",
       "      <td>723</td>\n",
       "      <td>NaN</td>\n",
       "    </tr>\n",
       "    <tr>\n",
       "      <th>3</th>\n",
       "      <td>509</td>\n",
       "      <td>NaN</td>\n",
       "    </tr>\n",
       "    <tr>\n",
       "      <th>4</th>\n",
       "      <td>254</td>\n",
       "      <td>NaN</td>\n",
       "    </tr>\n",
       "    <tr>\n",
       "      <th>5</th>\n",
       "      <td>158</td>\n",
       "      <td>NaN</td>\n",
       "    </tr>\n",
       "    <tr>\n",
       "      <th>6</th>\n",
       "      <td>302</td>\n",
       "      <td>NaN</td>\n",
       "    </tr>\n",
       "    <tr>\n",
       "      <th>7</th>\n",
       "      <td>143</td>\n",
       "      <td>NaN</td>\n",
       "    </tr>\n",
       "    <tr>\n",
       "      <th>8</th>\n",
       "      <td>354</td>\n",
       "      <td>NaN</td>\n",
       "    </tr>\n",
       "    <tr>\n",
       "      <th>9</th>\n",
       "      <td>438</td>\n",
       "      <td>NaN</td>\n",
       "    </tr>\n",
       "    <tr>\n",
       "      <th>10</th>\n",
       "      <td>675</td>\n",
       "      <td>NaN</td>\n",
       "    </tr>\n",
       "    <tr>\n",
       "      <th>11</th>\n",
       "      <td>336</td>\n",
       "      <td>NaN</td>\n",
       "    </tr>\n",
       "    <tr>\n",
       "      <th>12</th>\n",
       "      <td>51</td>\n",
       "      <td>NaN</td>\n",
       "    </tr>\n",
       "    <tr>\n",
       "      <th>13</th>\n",
       "      <td>117</td>\n",
       "      <td>NaN</td>\n",
       "    </tr>\n",
       "    <tr>\n",
       "      <th>14</th>\n",
       "      <td>327</td>\n",
       "      <td>78.0</td>\n",
       "    </tr>\n",
       "  </tbody>\n",
       "</table>\n",
       "</div>"
      ],
      "text/plain": [
       "    days since origination  days from origination to chargeoff\n",
       "0                      109                                 NaN\n",
       "1                      679                                 NaN\n",
       "2                      723                                 NaN\n",
       "3                      509                                 NaN\n",
       "4                      254                                 NaN\n",
       "5                      158                                 NaN\n",
       "6                      302                                 NaN\n",
       "7                      143                                 NaN\n",
       "8                      354                                 NaN\n",
       "9                      438                                 NaN\n",
       "10                     675                                 NaN\n",
       "11                     336                                 NaN\n",
       "12                      51                                 NaN\n",
       "13                     117                                 NaN\n",
       "14                     327                                78.0"
      ]
     },
     "execution_count": 4,
     "metadata": {},
     "output_type": "execute_result"
    }
   ],
   "source": [
    "loan_df.head(15)"
   ]
  },
  {
   "cell_type": "code",
   "execution_count": 5,
   "id": "34241e9e",
   "metadata": {},
   "outputs": [
    {
     "data": {
      "text/plain": [
       "(50000, 2)"
      ]
     },
     "execution_count": 5,
     "metadata": {},
     "output_type": "execute_result"
    }
   ],
   "source": [
    "loan_df.shape"
   ]
  },
  {
   "cell_type": "code",
   "execution_count": 6,
   "id": "879e6e3a",
   "metadata": {},
   "outputs": [
    {
     "data": {
      "text/html": [
       "<div>\n",
       "<style scoped>\n",
       "    .dataframe tbody tr th:only-of-type {\n",
       "        vertical-align: middle;\n",
       "    }\n",
       "\n",
       "    .dataframe tbody tr th {\n",
       "        vertical-align: top;\n",
       "    }\n",
       "\n",
       "    .dataframe thead th {\n",
       "        text-align: right;\n",
       "    }\n",
       "</style>\n",
       "<table border=\"1\" class=\"dataframe\">\n",
       "  <thead>\n",
       "    <tr style=\"text-align: right;\">\n",
       "      <th></th>\n",
       "      <th>days since origination</th>\n",
       "      <th>days from origination to chargeoff</th>\n",
       "    </tr>\n",
       "  </thead>\n",
       "  <tbody>\n",
       "    <tr>\n",
       "      <th>count</th>\n",
       "      <td>50000.000000</td>\n",
       "      <td>3305.000000</td>\n",
       "    </tr>\n",
       "    <tr>\n",
       "      <th>mean</th>\n",
       "      <td>365.844760</td>\n",
       "      <td>214.852345</td>\n",
       "    </tr>\n",
       "    <tr>\n",
       "      <th>std</th>\n",
       "      <td>210.965114</td>\n",
       "      <td>165.233874</td>\n",
       "    </tr>\n",
       "    <tr>\n",
       "      <th>min</th>\n",
       "      <td>0.000000</td>\n",
       "      <td>0.000000</td>\n",
       "    </tr>\n",
       "    <tr>\n",
       "      <th>25%</th>\n",
       "      <td>183.000000</td>\n",
       "      <td>76.000000</td>\n",
       "    </tr>\n",
       "    <tr>\n",
       "      <th>50%</th>\n",
       "      <td>366.000000</td>\n",
       "      <td>180.000000</td>\n",
       "    </tr>\n",
       "    <tr>\n",
       "      <th>75%</th>\n",
       "      <td>549.000000</td>\n",
       "      <td>323.000000</td>\n",
       "    </tr>\n",
       "    <tr>\n",
       "      <th>max</th>\n",
       "      <td>730.000000</td>\n",
       "      <td>725.000000</td>\n",
       "    </tr>\n",
       "  </tbody>\n",
       "</table>\n",
       "</div>"
      ],
      "text/plain": [
       "       days since origination  days from origination to chargeoff\n",
       "count            50000.000000                         3305.000000\n",
       "mean               365.844760                          214.852345\n",
       "std                210.965114                          165.233874\n",
       "min                  0.000000                            0.000000\n",
       "25%                183.000000                           76.000000\n",
       "50%                366.000000                          180.000000\n",
       "75%                549.000000                          323.000000\n",
       "max                730.000000                          725.000000"
      ]
     },
     "execution_count": 6,
     "metadata": {},
     "output_type": "execute_result"
    }
   ],
   "source": [
    "loan_df.describe()"
   ]
  },
  {
   "cell_type": "code",
   "execution_count": 7,
   "id": "2464d679",
   "metadata": {},
   "outputs": [
    {
     "data": {
      "text/plain": [
       "array([[<AxesSubplot:title={'center':'days since origination'}>,\n",
       "        <AxesSubplot:title={'center':'days from origination to chargeoff'}>]],\n",
       "      dtype=object)"
      ]
     },
     "execution_count": 7,
     "metadata": {},
     "output_type": "execute_result"
    },
    {
     "data": {
      "image/png": "[encoded data removed]",
      "text/plain": [
       "<Figure size 1152x432 with 2 Axes>"
      ]
     },
     "metadata": {
      "needs_background": "light"
     },
     "output_type": "display_data"
    }
   ],
   "source": [
    "loan_df.hist(figsize = (16,6))"
   ]
  },
  {
   "cell_type": "markdown",
   "id": "e98ac36a",
   "metadata": {},
   "source": [
    "Note that:\n",
    "- The max days since origination equates to two years, meaning that for all loans we have **at least** a year to go in order to make it to the required three.\n",
    "- There are 3305 chargeoffs out of 50000 loans, which is 6.61%.\n",
    "- Most chargeoffs happen pretty quickly! The mean is about seven months, and the mode is earlier still. The chances of a loan being charged-off decreases with time, which makes sense - if a loan lasted for a while, it's easier to assume that it's being repaid on schedule."
   ]
  },
  {
   "cell_type": "markdown",
   "id": "8cd7cf54",
   "metadata": {},
   "source": [
    "### Problem Formulation and Brainstorming"
   ]
  },
  {
   "cell_type": "markdown",
   "id": "79493727",
   "metadata": {},
   "source": [
    "It seems this problem splits into two challenges.\n",
    "\n",
    "The first is straightforward: we have data on loans which are up to two years since origination, so we should be able to take the loans still outstanding and use that data to predict if and when they'll default - up until two years since origination.\n",
    "\n",
    "The second and more interesting challenge stems from the fact that we don't have any data about loans which are more than two years old. Barring access to external data sources, it appears we'll have to extrapolate the charge-off probability from the data we have, meaning that we must extend the distribution presented above (\"days from origination until chargeoff\") in order to extrapolate charge-off probability for loans above two years. This must be done **first**, otherwise the prediction is ineffective.\n",
    "\n",
    "We therefore need to:\n",
    "1. Fit a regression model to the days until charge-off in order to create a probability function for charge-off as a function of time, p(t).\n",
    "2. Translate that into a cumulative probablity function for failure after time t, p(t>T). \n",
    "3. Apply that function for every loan left outstanding, based on the \"time since origination\" feature, which we'll mark as T.  "
   ]
  },
  {
   "cell_type": "markdown",
   "id": "48df5cac",
   "metadata": {},
   "source": [
    "### Step 1: finding p(t)"
   ]
  },
  {
   "cell_type": "markdown",
   "id": "b0237ac3",
   "metadata": {},
   "source": [
    "A more detailed look at the distribution:"
   ]
  },
  {
   "cell_type": "code",
   "execution_count": 8,
   "id": "d12cc468",
   "metadata": {},
   "outputs": [
    {
     "data": {
      "text/plain": [
       "<AxesSubplot:>"
      ]
     },
     "execution_count": 8,
     "metadata": {},
     "output_type": "execute_result"
    },
    {
     "data": {
      "image/png": "[encoded data removed]",
      "text/plain": [
       "<Figure size 1008x576 with 1 Axes>"
      ]
     },
     "metadata": {
      "needs_background": "light"
     },
     "output_type": "display_data"
    }
   ],
   "source": [
    "loan_df[\"days from origination to chargeoff\"].hist(bins = 50,figsize = (14,8))"
   ]
  },
  {
   "cell_type": "markdown",
   "id": "9748ccdd",
   "metadata": {},
   "source": [
    "Taking a look at a few popular distributions, this seemto math the description of an exponential decay function, $$ f(t) = a\\cdot e^{-bt} + c $$"
   ]
  },
  {
   "cell_type": "markdown",
   "id": "acf7ae02",
   "metadata": {},
   "source": [
    "We can use the SciPy curve_fit tool to try and best determine these parameters. Let's begin by plotting the probability that a charge-off will be issued on a given day since loan origination:"
   ]
  },
  {
   "cell_type": "code",
   "execution_count": 9,
   "id": "88631ff3",
   "metadata": {},
   "outputs": [
    {
     "data": {
      "text/plain": [
       "Text(0, 0.5, 'T (in days)')"
      ]
     },
     "execution_count": 9,
     "metadata": {},
     "output_type": "execute_result"
    },
    {
     "data": {
      "image/png": "[encoded data removed]",
      "text/plain": [
       "<Figure size 432x288 with 1 Axes>"
      ]
     },
     "metadata": {
      "needs_background": "light"
     },
     "output_type": "display_data"
    }
   ],
   "source": [
    "x = np.linspace(1.0, 730.0, num=730)\n",
    "y = np.asarray([sum(loan_df[\"days from origination to chargeoff\"] == int(num))/50000 for num in x])\n",
    "# count the number of occurences and divide by 50000.\n",
    "\n",
    "fig, ax = plt.subplots() \n",
    "ax.scatter(x, y, label='Raw data')\n",
    "ax.set_title('Probability distribution function')\n",
    "ax.set_xlabel('Probability of charge-off')\n",
    "ax.set_ylabel('T (in days)')"
   ]
  },
  {
   "cell_type": "markdown",
   "id": "37f3e41c",
   "metadata": {},
   "source": [
    "We can now use the curve fit tool in order to find the optimal coefficients for the exponential curve:"
   ]
  },
  {
   "cell_type": "code",
   "execution_count": 10,
   "id": "2b4f610d",
   "metadata": {},
   "outputs": [],
   "source": [
    "from scipy.optimize import curve_fit\n",
    "\n",
    "# We need to provide an initial guess:\n",
    "a = 1.5\n",
    "b = 0.5 # Must be positive, since we want a decay exponent (the function already contains a mimus).\n",
    "c = 0.00025   # Seems to be where the curve would hit the axis.\n",
    "\n",
    "# Fit the function a * np.exp(-b * t) + c to x and y\n",
    "best_fit, covar = curve_fit(lambda t, a, b, c: a * np.exp(-b * t) + c, x, y)\n",
    "# From the covariance matrix's diagonals we can calculate \n",
    "sigma = np.sqrt(np.diagonal(covar))"
   ]
  },
  {
   "cell_type": "markdown",
   "id": "ebb5061b",
   "metadata": {},
   "source": [
    "We can now extract the ideal (= least R^2) coefficeints a,b,c. Note that in addition to the best fit, we also get a covariance matrix from which a confidence interval (in this case, one sigma's worth) can be calculated. We'll leave this aside for now in the name of simplicity, but I'll briefly discussed how uncertainly comes into play at the very end of this notebook."
   ]
  },
  {
   "cell_type": "code",
   "execution_count": 11,
   "id": "0a029082",
   "metadata": {},
   "outputs": [
    {
     "name": "stdout",
     "output_type": "stream",
     "text": [
      "Best fit parameters:\n",
      "a = 0.000297+/-0.000016\n",
      "b = 0.00204+/-0.00025\n",
      "c = (-6.4+/-1.9)e-05\n"
     ]
    }
   ],
   "source": [
    "# an easy way to properly format parameter errors\n",
    "from uncertainties import ufloat\n",
    "a = best_fit[0]\n",
    "b = best_fit[1]\n",
    "c = best_fit[2]\n",
    "\n",
    "a_text = ufloat(best_fit[0], sigma[0])\n",
    "b_text = ufloat(best_fit[1], sigma[1])\n",
    "c_text = ufloat(best_fit[2], sigma[2])\n",
    "\n",
    "text_res = \"Best fit parameters:\\na = {}\\nb = {}\\nc = {}\".format(a_text, b_text, c_text)\n",
    "print(text_res)"
   ]
  },
  {
   "cell_type": "markdown",
   "id": "898b0bef",
   "metadata": {},
   "source": [
    "We can now plot the curve alongside the raw data:"
   ]
  },
  {
   "cell_type": "code",
   "execution_count": 12,
   "id": "b25a1a32",
   "metadata": {},
   "outputs": [
    {
     "data": {
      "text/plain": [
       "<matplotlib.legend.Legend at 0x16fb567af70>"
      ]
     },
     "execution_count": 12,
     "metadata": {},
     "output_type": "execute_result"
    },
    {
     "data": {
      "image/png": "[encoded data removed]",
      "text/plain": [
       "<Figure size 432x288 with 1 Axes>"
      ]
     },
     "metadata": {
      "needs_background": "light"
     },
     "output_type": "display_data"
    }
   ],
   "source": [
    "x_fitted = np.linspace(np.min(x), np.max(x), 730)\n",
    "y_fitted = a * np.exp(-b * x_fitted) + c\n",
    "\n",
    "# Plot\n",
    "ax = plt.axes()\n",
    "ax.scatter(x, y, label='Raw data')\n",
    "ax.plot(x_fitted, y_fitted, 'k', label='Fitted curve')\n",
    "ax.set_title('Using curve fit to fit an exponential function')\n",
    "ax.set_xlabel('Probability of charge-off')\n",
    "ax.set_ylabel('T (in days)')\n",
    "ax.legend()"
   ]
  },
  {
   "cell_type": "markdown",
   "id": "d66aeaab",
   "metadata": {},
   "source": [
    "We can now expand the fitted curve to apply for three years instead of two:"
   ]
  },
  {
   "cell_type": "code",
   "execution_count": 13,
   "id": "3652eef1",
   "metadata": {},
   "outputs": [
    {
     "data": {
      "text/plain": [
       "<matplotlib.legend.Legend at 0x16fb589f550>"
      ]
     },
     "execution_count": 13,
     "metadata": {},
     "output_type": "execute_result"
    },
    {
     "data": {
      "image/png": "[encoded data removed]",
      "text/plain": [
       "<Figure size 432x288 with 1 Axes>"
      ]
     },
     "metadata": {
      "needs_background": "light"
     },
     "output_type": "display_data"
    }
   ],
   "source": [
    "x_fitted = np.linspace(1, 1095, 1095) # 3*365\n",
    "y_fitted = a * np.exp(-b * x_fitted) + c\n",
    "\n",
    "# Plot\n",
    "ax = plt.axes()\n",
    "ax.scatter(x, y, label='Raw data')\n",
    "ax.plot(x_fitted, y_fitted, 'k-', label='Extended Fitted curve')\n",
    "ax.set_title('Using curve fit to fit an exponential distribution function')\n",
    "ax.set_xlabel('Probability of charge-off')\n",
    "ax.set_ylabel('T (in days)')\n",
    "ax.legend()"
   ]
  },
  {
   "cell_type": "markdown",
   "id": "4d4e637a",
   "metadata": {},
   "source": [
    "We notice a not-so-slight issue: the probability distribution goes negative, which is mathmatically impossible. We can solve the equation for the above parameters (on WolframAlpha) and find that the function becomes less than zero after 751 days, so we'll replace all of the indexes after that day to be zero:  "
   ]
  },
  {
   "cell_type": "code",
   "execution_count": 14,
   "id": "4ab692e0",
   "metadata": {},
   "outputs": [],
   "source": [
    "y_fitted[751:] = 0"
   ]
  },
  {
   "cell_type": "markdown",
   "id": "47af6d2b",
   "metadata": {},
   "source": [
    "### Step 2: the cumulative function p(t>T)"
   ]
  },
  {
   "cell_type": "markdown",
   "id": "e9433ec5",
   "metadata": {},
   "source": [
    "We now ask ourselves: what is the probability that a loan will be charged-off AFTER a given time T? This will allow us to take the outstanding loans we have and determine how many of them are likely to be charged-off in the future.\n",
    "\n",
    "In statistics, this term is called the Complementary Cumulative Distribution Function (CCDF)."
   ]
  },
  {
   "cell_type": "code",
   "execution_count": 15,
   "id": "f47ca212",
   "metadata": {},
   "outputs": [
    {
     "data": {
      "text/plain": [
       "array([0.06580938, 0.06557734, 0.0653459 , ..., 0.        , 0.        ,\n",
       "       0.        ])"
      ]
     },
     "execution_count": 15,
     "metadata": {},
     "output_type": "execute_result"
    }
   ],
   "source": [
    "y_prob_chargeoff_after_T = np.asarray([sum(y_fitted[index:]) for index in range(len(y_fitted))])\n",
    "y_prob_chargeoff_after_T"
   ]
  },
  {
   "cell_type": "code",
   "execution_count": 16,
   "id": "6314eaad",
   "metadata": {
    "scrolled": true
   },
   "outputs": [
    {
     "data": {
      "text/plain": [
       "<matplotlib.legend.Legend at 0x16fb5947310>"
      ]
     },
     "execution_count": 16,
     "metadata": {},
     "output_type": "execute_result"
    },
    {
     "data": {
      "image/png": "[encoded data removed]",
      "text/plain": [
       "<Figure size 1008x576 with 2 Axes>"
      ]
     },
     "metadata": {
      "needs_background": "light"
     },
     "output_type": "display_data"
    }
   ],
   "source": [
    "# Plot\n",
    "fig, ax = plt.subplots(figsize = (14,8)) \n",
    "ax = plt.axes()\n",
    "ax.scatter(x, y, label='Raw data')\n",
    "ax.plot(x_fitted, y_fitted, 'k', label='Fitted curve')\n",
    "ax.plot(x_fitted, y_prob_chargeoff_after_T, 'b', label='CCDF')\n",
    "ax.set_title('Complementary Cumulative Distribution Function')\n",
    "ax.set_xlabel('Probability of charge-off')\n",
    "ax.set_ylabel('T (in days)')\n",
    "ax.set_xlim(0, 1095)\n",
    "ax.legend()"
   ]
  },
  {
   "cell_type": "markdown",
   "id": "eb111f6f",
   "metadata": {},
   "source": [
    "This cumulative graph makes sense: at time T = 0 we see that charge-off is slightly higher than the value of 6.61% we mentioned earlier, since we've modeled some extra probablity that the loan might be written off in the beginning of year 3."
   ]
  },
  {
   "cell_type": "markdown",
   "id": "fc70236f",
   "metadata": {},
   "source": [
    "### Step 3: Making the Prediction"
   ]
  },
  {
   "cell_type": "markdown",
   "id": "d8ab3c97",
   "metadata": {},
   "source": [
    "Now we just need to apply our cumulative probability function to the data we have regarding the remaining loans since origination, to determine how many will make it."
   ]
  },
  {
   "cell_type": "code",
   "execution_count": 17,
   "id": "ce2e61b5",
   "metadata": {},
   "outputs": [],
   "source": [
    "outstanding_loans = loan_df[np.isnan(loan_df[\"days from origination to chargeoff\"])][\"days since origination\"]"
   ]
  },
  {
   "cell_type": "code",
   "execution_count": 18,
   "id": "dc126367",
   "metadata": {},
   "outputs": [],
   "source": [
    "prob_chargeoff_outstanding = [y_prob_chargeoff_after_T[int(loan)] for loan in outstanding_loans]"
   ]
  },
  {
   "cell_type": "code",
   "execution_count": 19,
   "id": "4d913ac4",
   "metadata": {},
   "outputs": [
    {
     "data": {
      "text/html": [
       "<div>\n",
       "<style scoped>\n",
       "    .dataframe tbody tr th:only-of-type {\n",
       "        vertical-align: middle;\n",
       "    }\n",
       "\n",
       "    .dataframe tbody tr th {\n",
       "        vertical-align: top;\n",
       "    }\n",
       "\n",
       "    .dataframe thead th {\n",
       "        text-align: right;\n",
       "    }\n",
       "</style>\n",
       "<table border=\"1\" class=\"dataframe\">\n",
       "  <thead>\n",
       "    <tr style=\"text-align: right;\">\n",
       "      <th></th>\n",
       "      <th>Days Since Origination</th>\n",
       "      <th>Probability of Charge-off</th>\n",
       "    </tr>\n",
       "  </thead>\n",
       "  <tbody>\n",
       "    <tr>\n",
       "      <th>0</th>\n",
       "      <td>109</td>\n",
       "      <td>0.043823</td>\n",
       "    </tr>\n",
       "    <tr>\n",
       "      <th>1</th>\n",
       "      <td>679</td>\n",
       "      <td>0.000357</td>\n",
       "    </tr>\n",
       "    <tr>\n",
       "      <th>2</th>\n",
       "      <td>723</td>\n",
       "      <td>0.000052</td>\n",
       "    </tr>\n",
       "    <tr>\n",
       "      <th>3</th>\n",
       "      <td>509</td>\n",
       "      <td>0.004545</td>\n",
       "    </tr>\n",
       "    <tr>\n",
       "      <th>4</th>\n",
       "      <td>254</td>\n",
       "      <td>0.023320</td>\n",
       "    </tr>\n",
       "    <tr>\n",
       "      <th>...</th>\n",
       "      <td>...</td>\n",
       "      <td>...</td>\n",
       "    </tr>\n",
       "    <tr>\n",
       "      <th>46690</th>\n",
       "      <td>253</td>\n",
       "      <td>0.023432</td>\n",
       "    </tr>\n",
       "    <tr>\n",
       "      <th>46691</th>\n",
       "      <td>664</td>\n",
       "      <td>0.000526</td>\n",
       "    </tr>\n",
       "    <tr>\n",
       "      <th>46692</th>\n",
       "      <td>209</td>\n",
       "      <td>0.028759</td>\n",
       "    </tr>\n",
       "    <tr>\n",
       "      <th>46693</th>\n",
       "      <td>214</td>\n",
       "      <td>0.028116</td>\n",
       "    </tr>\n",
       "    <tr>\n",
       "      <th>46694</th>\n",
       "      <td>1</td>\n",
       "      <td>0.065577</td>\n",
       "    </tr>\n",
       "  </tbody>\n",
       "</table>\n",
       "<p>46695 rows × 2 columns</p>\n",
       "</div>"
      ],
      "text/plain": [
       "       Days Since Origination  Probability of Charge-off\n",
       "0                         109                   0.043823\n",
       "1                         679                   0.000357\n",
       "2                         723                   0.000052\n",
       "3                         509                   0.004545\n",
       "4                         254                   0.023320\n",
       "...                       ...                        ...\n",
       "46690                     253                   0.023432\n",
       "46691                     664                   0.000526\n",
       "46692                     209                   0.028759\n",
       "46693                     214                   0.028116\n",
       "46694                       1                   0.065577\n",
       "\n",
       "[46695 rows x 2 columns]"
      ]
     },
     "execution_count": 19,
     "metadata": {},
     "output_type": "execute_result"
    }
   ],
   "source": [
    "out_df = pd.DataFrame(zip(outstanding_loans, prob_chargeoff_outstanding))\n",
    "out_df.columns = ['Days Since Origination', 'Probability of Charge-off']\n",
    "out_df"
   ]
  },
  {
   "cell_type": "markdown",
   "id": "321ab857",
   "metadata": {},
   "source": [
    "All that's left to do is to average the probabilities above in order to find the percentage of oustanding loans which will likely be charged-off:  "
   ]
  },
  {
   "cell_type": "code",
   "execution_count": 20,
   "id": "18d1f1dc",
   "metadata": {},
   "outputs": [
    {
     "data": {
      "text/plain": [
       "0.020052089037144387"
      ]
     },
     "execution_count": 20,
     "metadata": {},
     "output_type": "execute_result"
    }
   ],
   "source": [
    "out_df['Probability of Charge-off'].mean()"
   ]
  },
  {
   "cell_type": "markdown",
   "id": "7a5da966",
   "metadata": {},
   "source": [
    "**Bottom line: Two percent** of outstanding loans are likely to be charged-off, bringing the grand total (including the loans which have already been charged-off) to **8.615%**."
   ]
  },
  {
   "cell_type": "markdown",
   "id": "6dc9bb68",
   "metadata": {},
   "source": [
    "### Summary"
   ]
  },
  {
   "cell_type": "markdown",
   "id": "9bd38dae",
   "metadata": {},
   "source": [
    "Using curve fitting, we were able to create a distribution function which was able to tell us the probablity that a loan would fail (be charged off) on a given day, and AFTER a given day. By applying this function to the data we have on outstanding loans, we we're able to determine that an additional two percent of loans are likely to be written off.\n",
    "\n",
    "This has tremendous business value for the company, which will be better prepared for the losses they're likely to incur due to those defaults. "
   ]
  },
  {
   "cell_type": "markdown",
   "id": "b03312a2",
   "metadata": {},
   "source": [
    "### Extra Credit: Dealing With Uncertainty"
   ]
  },
  {
   "cell_type": "markdown",
   "id": "1ca0649a",
   "metadata": {},
   "source": [
    "The first step of the solution involved finding the exponential function with the best coefficients to fit the data (meaning with the lowest R^2 score). Utilizing that curve allowed us to ultimately come up with our final answer, but in the real world there is statistical uncertainty which would need to be modeled into the solution. As in, rather than predicting a charge-off rate of 2% for the remaining loans, we'd provide a range which would account for, say, 95% of the possible outcomes.\n",
    "\n",
    "An excellent [answer](https://stackoverflow.com/questions/39434402/how-to-get-confidence-intervals-from-curve-fit) on Stack Overflow by [Vlas Sokolov](https://stackoverflow.com/users/4118756/vlas-sokolov) details how to calculate and visualize the confidence bounds for a fitted curve. In order to properly solve our problem, instead of following the steps outlined above for the \"ideal\" curve, we'd need to repeat the process for the upper and lower boundary curves as well. Solving the problem for both the upper and lower curves would give us the range of charge-off rates which would be a much more robust way of solving the problem and presenting the possibilities to executives.\n",
    "\n",
    "(If you do read the Stack Overflow answer, note that we'd be using the so-called \"quick and wrong\" solution that Vlas presents, since we don't have the error distribution for the data, only a count of how many loans were charged-off on a given day since origination.) "
   ]
  },
  {
   "cell_type": "code",
   "execution_count": null,
   "id": "46b9f1b0",
   "metadata": {},
   "outputs": [],
   "source": []
  }
 ],
 "metadata": {
  "kernelspec": {
   "display_name": "Python 3 (ipykernel)",
   "language": "python",
   "name": "python3"
  },
  "language_info": {
   "codemirror_mode": {
    "name": "ipython",
    "version": 3
   },
   "file_extension": ".py",
   "mimetype": "text/x-python",
   "name": "python",
   "nbconvert_exporter": "python",
   "pygments_lexer": "ipython3",
   "version": "3.9.5"
  }
 },
 "nbformat": 4,
 "nbformat_minor": 5
}
